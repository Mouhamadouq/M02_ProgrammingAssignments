{
 "cells": [
  {
   "cell_type": "code",
   "execution_count": 7,
   "id": "b9104f74",
   "metadata": {},
   "outputs": [
    {
     "name": "stdout",
     "output_type": "stream",
     "text": [
      "Secret value is:  4\n",
      "Guess value is:  7\n",
      "too high!\n",
      "pea.\n"
     ]
    }
   ],
   "source": [
    "import random\n",
    "\n",
    "#Generate radom number between (1-10) to make it more fun\n",
    "secret = random.randint(1,10)\n",
    "guess = random.randint(1,10)\n",
    "\n",
    "print(\"Secret value is: \", secret)\n",
    "print(\"Guess value is: \", guess)\n",
    "\n",
    "#if statements\n",
    "if guess < secret:\n",
    "    print(\"too low!\")\n",
    "elif guess > secret:\n",
    "    print(\"too high!\")\n",
    "else:\n",
    "    print(\"just right!\")\n",
    "\n",
    "small = \"true\"\n",
    "green = \"false\"\n",
    "\n",
    "#if statements\n",
    "if small == \"true\":\n",
    "    if green == \"true\":\n",
    "        print(\"cherry.\")\n",
    "    if green == \"false\":\n",
    "        print(\"pea.\")\n",
    "    else:\n",
    "        print(\"watermelon.\")\n",
    "if green == \"false\":\n",
    "    if small == \"false\":\n",
    "        print(\"pumpkin.\")\n",
    "    \n"
   ]
  },
  {
   "cell_type": "code",
   "execution_count": null,
   "id": "80ef3abb",
   "metadata": {},
   "outputs": [],
   "source": []
  }
 ],
 "metadata": {
  "kernelspec": {
   "display_name": "Python 3 (ipykernel)",
   "language": "python",
   "name": "python3"
  },
  "language_info": {
   "codemirror_mode": {
    "name": "ipython",
    "version": 3
   },
   "file_extension": ".py",
   "mimetype": "text/x-python",
   "name": "python",
   "nbconvert_exporter": "python",
   "pygments_lexer": "ipython3",
   "version": "3.9.13"
  }
 },
 "nbformat": 4,
 "nbformat_minor": 5
}
